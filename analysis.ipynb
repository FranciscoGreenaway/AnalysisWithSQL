{
 "cells": [
  {
   "cell_type": "code",
   "execution_count": 128,
   "metadata": {
    "collapsed": true
   },
   "outputs": [],
   "source": [
    "import sqlite3\n",
    "import pandas as pd\n",
    "import matplotlib.pyplot as plt\n",
    "from collections import Counter\n",
    "import seaborn as sns\n",
    "from collections import  defaultdict\n",
    "conn = sqlite3.connect('data/DailyReports (2).db')"
   ]
  },
  {
   "cell_type": "code",
   "execution_count": 129,
   "outputs": [],
   "source": [
    "df_service_popularity = pd.read_sql_query(\"\"\"select service, count(*) as 'performed'\n",
    "                                 from orderservices group by service order by COUNT(*) DESC;\"\"\", conn)"
   ],
   "metadata": {
    "collapsed": false,
    "pycharm": {
     "name": "#%%\n"
    }
   }
  },
  {
   "cell_type": "code",
   "execution_count": 130,
   "outputs": [
    {
     "data": {
      "text/plain": "            service  performed\n0              diag         87\n1   software repair         57\n2  software install         55\n3       data backup         36\n4    password reset         14",
      "text/html": "<div>\n<style scoped>\n    .dataframe tbody tr th:only-of-type {\n        vertical-align: middle;\n    }\n\n    .dataframe tbody tr th {\n        vertical-align: top;\n    }\n\n    .dataframe thead th {\n        text-align: right;\n    }\n</style>\n<table border=\"1\" class=\"dataframe\">\n  <thead>\n    <tr style=\"text-align: right;\">\n      <th></th>\n      <th>service</th>\n      <th>performed</th>\n    </tr>\n  </thead>\n  <tbody>\n    <tr>\n      <th>0</th>\n      <td>diag</td>\n      <td>87</td>\n    </tr>\n    <tr>\n      <th>1</th>\n      <td>software repair</td>\n      <td>57</td>\n    </tr>\n    <tr>\n      <th>2</th>\n      <td>software install</td>\n      <td>55</td>\n    </tr>\n    <tr>\n      <th>3</th>\n      <td>data backup</td>\n      <td>36</td>\n    </tr>\n    <tr>\n      <th>4</th>\n      <td>password reset</td>\n      <td>14</td>\n    </tr>\n  </tbody>\n</table>\n</div>"
     },
     "execution_count": 130,
     "metadata": {},
     "output_type": "execute_result"
    }
   ],
   "source": [
    "#  .head(#) will select the first '#' from the top\n",
    "df_service_popularity.head(5)"
   ],
   "metadata": {
    "collapsed": false,
    "pycharm": {
     "name": "#%%\n"
    }
   }
  },
  {
   "cell_type": "code",
   "execution_count": 131,
   "outputs": [
    {
     "data": {
      "text/plain": "<Figure size 432x288 with 1 Axes>",
      "image/png": "[encoded data removed]"
     },
     "metadata": {},
     "output_type": "display_data"
    }
   ],
   "source": [
    "fig = plt.figure()\n",
    "ax = fig.add_subplot(121)\n",
    "\n",
    "# Using top 5 Services and their Amount as our X and Y\n",
    "plt.bar(df_service_popularity['service'].head(5), df_service_popularity['performed'].head(5))\n",
    "\n",
    "# Set X and Y Labels\n",
    "ax.set_xlabel('Services')\n",
    "ax.set_ylabel('Amount Performed')\n",
    "\n",
    "# Changing color of Axes Labels\n",
    "ax.xaxis.label.set_color('yellow')\n",
    "ax.yaxis.label.set_color('yellow')\n",
    "\n",
    "# Rotate the x-axis labels and change color of axes\n",
    "plt.xticks(rotation=65)\n",
    "ax.tick_params(axis='x', colors='White')\n",
    "ax.tick_params(axis='y', colors='White')"
   ],
   "metadata": {
    "collapsed": false,
    "pycharm": {
     "name": "#%%\n"
    }
   }
  },
  {
   "cell_type": "code",
   "execution_count": 132,
   "outputs": [],
   "source": [
    "\n",
    "# 2. performing Affinity analysis on a group of data from the events database\n",
    "##   I'm using pandas as \"pd\" to load data into a data frame\n",
    "\n",
    "df_affinity_analysis = pd.read_sql_query(\"\"\"select s1.order_id, s1.service as service1, s2.service as service2\n",
    "                        from orderservices s1\n",
    "                        JOIN orderservices s2\n",
    "                        ON s1.order_id = s2.order_id AND\n",
    "                        s1.service != s2.service\n",
    "                        GROUP BY s1.order_id, s1.service, s2.service\n",
    "                        HAVING s2.service != \"\";\"\"\", conn)\n",
    "\n",
    "                         # ( Having s2.service != \"\" ) is necessary because some services occur\n",
    "                         # only once therefore the \"s1.service != s2.service\" will cause s2.service\n",
    "                         # to equal \"\".\n"
   ],
   "metadata": {
    "collapsed": false,
    "pycharm": {
     "name": "#%%\n"
    }
   }
  },
  {
   "cell_type": "code",
   "execution_count": 133,
   "outputs": [
    {
     "data": {
      "text/plain": "       order_id         service1          service2\n0      22233988      data backup              diag\n1      22233988      data backup  software install\n2      22233988      data backup   software repair\n3      22233988             diag       data backup\n4      22233988             diag  software install\n..          ...              ...               ...\n545  2225136731  software repair       data backup\n546  2225136731  software repair              diag\n547  2225136731  software repair  software install\n548  2225137759      data backup              diag\n549  2225137759             diag       data backup\n\n[550 rows x 3 columns]",
      "text/html": "<div>\n<style scoped>\n    .dataframe tbody tr th:only-of-type {\n        vertical-align: middle;\n    }\n\n    .dataframe tbody tr th {\n        vertical-align: top;\n    }\n\n    .dataframe thead th {\n        text-align: right;\n    }\n</style>\n<table border=\"1\" class=\"dataframe\">\n  <thead>\n    <tr style=\"text-align: right;\">\n      <th></th>\n      <th>order_id</th>\n      <th>service1</th>\n      <th>service2</th>\n    </tr>\n  </thead>\n  <tbody>\n    <tr>\n      <th>0</th>\n      <td>22233988</td>\n      <td>data backup</td>\n      <td>diag</td>\n    </tr>\n    <tr>\n      <th>1</th>\n      <td>22233988</td>\n      <td>data backup</td>\n      <td>software install</td>\n    </tr>\n    <tr>\n      <th>2</th>\n      <td>22233988</td>\n      <td>data backup</td>\n      <td>software repair</td>\n    </tr>\n    <tr>\n      <th>3</th>\n      <td>22233988</td>\n      <td>diag</td>\n      <td>data backup</td>\n    </tr>\n    <tr>\n      <th>4</th>\n      <td>22233988</td>\n      <td>diag</td>\n      <td>software install</td>\n    </tr>\n    <tr>\n      <th>...</th>\n      <td>...</td>\n      <td>...</td>\n      <td>...</td>\n    </tr>\n    <tr>\n      <th>545</th>\n      <td>2225136731</td>\n      <td>software repair</td>\n      <td>data backup</td>\n    </tr>\n    <tr>\n      <th>546</th>\n      <td>2225136731</td>\n      <td>software repair</td>\n      <td>diag</td>\n    </tr>\n    <tr>\n      <th>547</th>\n      <td>2225136731</td>\n      <td>software repair</td>\n      <td>software install</td>\n    </tr>\n    <tr>\n      <th>548</th>\n      <td>2225137759</td>\n      <td>data backup</td>\n      <td>diag</td>\n    </tr>\n    <tr>\n      <th>549</th>\n      <td>2225137759</td>\n      <td>diag</td>\n      <td>data backup</td>\n    </tr>\n  </tbody>\n</table>\n<p>550 rows × 3 columns</p>\n</div>"
     },
     "execution_count": 133,
     "metadata": {},
     "output_type": "execute_result"
    }
   ],
   "source": [
    "# Display the dataframe\n",
    "df_affinity_analysis"
   ],
   "metadata": {
    "collapsed": false,
    "pycharm": {
     "name": "#%%\n"
    }
   }
  },
  {
   "cell_type": "code",
   "execution_count": 134,
   "outputs": [
    {
     "name": "stdout",
     "output_type": "stream",
     "text": [
      "275\n"
     ]
    }
   ],
   "source": [
    "#Total amount of services performed with another service (unreduced)\n",
    "# df_affinity_analysis.shape[0]\n",
    "\n",
    "\n",
    "# Getting rid of double results (reduced)\n",
    "reduced_row_count = df_affinity_analysis.shape[0] // 2\n",
    "print(reduced_row_count)\n",
    "\n"
   ],
   "metadata": {
    "collapsed": false,
    "pycharm": {
     "name": "#%%\n"
    }
   }
  },
  {
   "cell_type": "code",
   "execution_count": 135,
   "outputs": [],
   "source": [
    "unique_services = pd.unique(df_affinity_analysis['service1'])\n",
    "# n_services = len(unique_services)\n",
    "# print(unique_services)"
   ],
   "metadata": {
    "collapsed": false,
    "pycharm": {
     "name": "#%%\n"
    }
   }
  },
  {
   "cell_type": "code",
   "execution_count": 136,
   "outputs": [],
   "source": [
    "groups = Counter()\n",
    "for row in df_affinity_analysis[['service1', 'service2']].values:\n",
    "    # \"+= .5\" is used to prevent counting double results\n",
    "    groups[frozenset([row[0], row[1]])] += .5\n",
    "\n",
    "# My attempt at trying to use iterrows() so I don't have to use a frozenset\n",
    "# for i , j in df_affinity_analysis.iterrows():\n",
    "#     print(f\" {j[1]}...... {j[2]} \")\n",
    "#     dict = pd.unique(list[j[1]])\n"
   ],
   "metadata": {
    "collapsed": false,
    "pycharm": {
     "name": "#%%\n"
    }
   }
  },
  {
   "cell_type": "code",
   "execution_count": 137,
   "outputs": [
    {
     "data": {
      "text/plain": "Counter({frozenset({'data backup', 'diag'}): 31.0,\n         frozenset({'data backup', 'software install'}): 28.0,\n         frozenset({'data backup', 'software repair'}): 29.0,\n         frozenset({'diag', 'software install'}): 55.0,\n         frozenset({'diag', 'software repair'}): 57.0,\n         frozenset({'software install', 'software repair'}): 52.0,\n         frozenset({'diag', 'password reset'}): 12.0,\n         frozenset({'password reset', 'software install'}): 4.0,\n         frozenset({'password reset', 'software repair'}): 3.0,\n         frozenset({'diag', 'software installation'}): 1.0,\n         frozenset({'password reset', 'software installation'}): 1.0,\n         frozenset({'diag', 'hardware repair'}): 1.0,\n         frozenset({'data backup', 'password reset'}): 1.0})"
     },
     "execution_count": 137,
     "metadata": {},
     "output_type": "execute_result"
    }
   ],
   "source": [
    "# Display groups Counter\n",
    "groups\n"
   ],
   "metadata": {
    "collapsed": false,
    "pycharm": {
     "name": "#%%\n"
    }
   }
  },
  {
   "cell_type": "code",
   "execution_count": 139,
   "outputs": [],
   "source": [
    "service1_service2_amount = []\n",
    "total_pairs = 0\n",
    "\n",
    "for k in groups:\n",
    "    print(f\" Service 1 '{list(k)[0]}' and Service 2 '{list(k)[1]}' occur together {groups[k]} times.\")\n",
    "    service1_service2_amount.append((list(k)[0], list(k)[1], groups[k]))\n",
    "    total_pairs += groups[k]"
   ],
   "metadata": {
    "collapsed": false,
    "pycharm": {
     "name": "#%%\n"
    }
   }
  },
  {
   "cell_type": "code",
   "execution_count": null,
   "outputs": [],
   "source": [
    "services = {\", \".join(list(k)): groups[k] for k in groups.keys()}\n",
    "print(services)"
   ],
   "metadata": {
    "collapsed": false,
    "pycharm": {
     "name": "#%%\n"
    }
   }
  },
  {
   "cell_type": "code",
   "execution_count": 144,
   "outputs": [
    {
     "data": {
      "text/plain": "(array([ 0,  1,  2,  3,  4,  5,  6,  7,  8,  9, 10, 11, 12]),\n [Text(0, 0, 'data backup, diag'),\n  Text(1, 0, 'data backup, software install'),\n  Text(2, 0, 'data backup, software repair'),\n  Text(3, 0, 'software install, diag'),\n  Text(4, 0, 'software repair, diag'),\n  Text(5, 0, 'software install, software repair'),\n  Text(6, 0, 'password reset, diag'),\n  Text(7, 0, 'password reset, software install'),\n  Text(8, 0, 'password reset, software repair'),\n  Text(9, 0, 'diag, software installation'),\n  Text(10, 0, 'password reset, software installation'),\n  Text(11, 0, 'hardware repair, diag'),\n  Text(12, 0, 'data backup, password reset')])"
     },
     "execution_count": 144,
     "metadata": {},
     "output_type": "execute_result"
    },
    {
     "data": {
      "text/plain": "<Figure size 432x288 with 1 Axes>",
      "image/png": "[encoded data removed]"
     },
     "metadata": {},
     "output_type": "display_data"
    }
   ],
   "source": [
    "#Using Seaborn to plot data\n",
    "\n",
    "# Set style of bar plot\n",
    "sns.set_theme(style='whitegrid')\n",
    "\n",
    "# Plot Service Pairs (X-axis) and their Appeared Amount (Y-Axis)\n",
    "ax = sns.barplot(x=list(services.keys()), y=list(services.values()))\n",
    "plt.xticks(rotation=80)\n",
    "# plt.tight_layout()\n",
    "\n",
    "\n",
    "#%"
   ],
   "metadata": {
    "collapsed": false,
    "pycharm": {
     "name": "#%%\n"
    }
   }
  },
  {
   "cell_type": "code",
   "execution_count": 163,
   "outputs": [
    {
     "name": "stdout",
     "output_type": "stream",
     "text": [
      " DATA BACKUP with DIAG has a 11.27% confidence rate\n",
      " DATA BACKUP with PASSWORD RESET has a 0.36% confidence rate\n",
      " DATA BACKUP with SOFTWARE INSTALL has a 10.18% confidence rate\n",
      " DATA BACKUP with SOFTWARE REPAIR has a 10.55% confidence rate\n",
      " DIAG with SOFTWARE INSTALLATION has a 0.36% confidence rate\n",
      " HARDWARE REPAIR with DIAG has a 0.36% confidence rate\n",
      " PASSWORD RESET with DIAG has a 4.36% confidence rate\n",
      " PASSWORD RESET with SOFTWARE INSTALL has a 1.45% confidence rate\n",
      " PASSWORD RESET with SOFTWARE INSTALLATION has a 0.36% confidence rate\n",
      " PASSWORD RESET with SOFTWARE REPAIR has a 1.09% confidence rate\n",
      " SOFTWARE INSTALL with DIAG has a 20.0% confidence rate\n",
      " SOFTWARE INSTALL with SOFTWARE REPAIR has a 18.91% confidence rate\n",
      " SOFTWARE REPAIR with DIAG has a 20.73% confidence rate\n",
      "[('data backup', 'diag', 31.0), ('data backup', 'password reset', 1.0), ('data backup', 'software install', 28.0), ('data backup', 'software repair', 29.0), ('diag', 'software installation', 1.0), ('hardware repair', 'diag', 1.0), ('password reset', 'diag', 12.0), ('password reset', 'software install', 4.0), ('password reset', 'software installation', 1.0), ('password reset', 'software repair', 3.0), ('software install', 'diag', 55.0), ('software install', 'software repair', 52.0), ('software repair', 'diag', 57.0)]\n"
     ]
    }
   ],
   "source": [
    "# Print Confidence Rate of the Service Pairs\n",
    "\n",
    "for x in service1_service2_amount:\n",
    "    print(f\" {x[0].upper()} with {x[1].upper()} has a {round((x[2]/total_pairs)*100,2)}% confidence rate\")\n"
   ],
   "metadata": {
    "collapsed": false,
    "pycharm": {
     "name": "#%%\n"
    }
   }
  }
 ],
 "metadata": {
  "kernelspec": {
   "display_name": "Python 3",
   "language": "python",
   "name": "python3"
  },
  "language_info": {
   "codemirror_mode": {
    "name": "ipython",
    "version": 2
   },
   "file_extension": ".py",
   "mimetype": "text/x-python",
   "name": "python",
   "nbconvert_exporter": "python",
   "pygments_lexer": "ipython2",
   "version": "2.7.6"
  }
 },
 "nbformat": 4,
 "nbformat_minor": 0
}